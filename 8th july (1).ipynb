{
 "cells": [
  {
   "cell_type": "code",
   "execution_count": 6,
   "metadata": {},
   "outputs": [
    {
     "data": {
      "text/plain": [
       "True"
      ]
     },
     "execution_count": 6,
     "metadata": {},
     "output_type": "execute_result"
    }
   ],
   "source": [
    "def isPrime(n):\n",
    "    flag=True\n",
    "    for i in range(2,n//2+1):\n",
    "        if n%i == 0:\n",
    "            flag = False\n",
    "            return flag\n",
    "        return flag\n",
    "isPrime(11)"
   ]
  },
  {
   "cell_type": "code",
   "execution_count": 44,
   "metadata": {},
   "outputs": [
    {
     "data": {
      "text/plain": [
       "25"
      ]
     },
     "execution_count": 44,
     "metadata": {},
     "output_type": "execute_result"
    }
   ],
   "source": [
    "#function to find prime numbers from 1 to N\n",
    "#10--4[count](2,3,5,7)\n",
    "def primeCount(n):\n",
    "    cnt = 0\n",
    "    for a in range(2,n+1):\n",
    "        k = 0\n",
    "        for i in range(2,a//2+1):\n",
    "            if a%i == 0:\n",
    "                k=k+1\n",
    "        if (k<=0):\n",
    "            cnt = cnt+1\n",
    "    return cnt\n",
    "primeCount(100)\n",
    "        "
   ]
  },
  {
   "cell_type": "code",
   "execution_count": 45,
   "metadata": {},
   "outputs": [
    {
     "name": "stdout",
     "output_type": "stream",
     "text": [
      "Yes\n",
      "No\n"
     ]
    }
   ],
   "source": [
    "#function to find prime numbers from 1 to N\n",
    "#10--4[count](2,3,5,7)\n",
    "def primeCount(n):\n",
    "    cnt = 0\n",
    "    for a in range(2,n+1):\n",
    "        k = 0\n",
    "        for i in range(2,a//2+1):\n",
    "            if a%i == 0:\n",
    "                k=k+1\n",
    "        if (k<=0):\n",
    "            cnt = cnt+1\n",
    "    return cnt\n",
    "primeCount(100)\n",
    "        "
   ]
  },
  {
   "cell_type": "code",
   "execution_count": 46,
   "metadata": {},
   "outputs": [
    {
     "ename": "TypeError",
     "evalue": "isPalindrome() missing 1 required positional argument: 'ub'",
     "output_type": "error",
     "traceback": [
      "\u001b[1;31m---------------------------------------------------------------------------\u001b[0m",
      "\u001b[1;31mTypeError\u001b[0m                                 Traceback (most recent call last)",
      "\u001b[1;32m<ipython-input-46-49b08a9497fd>\u001b[0m in \u001b[0;36m<module>\u001b[1;34m\u001b[0m\n\u001b[0;32m     27\u001b[0m         \u001b[0mlb\u001b[0m \u001b[1;33m=\u001b[0m \u001b[0mlb\u001b[0m\u001b[1;33m+\u001b[0m\u001b[1;36m1\u001b[0m\u001b[1;33m\u001b[0m\u001b[1;33m\u001b[0m\u001b[0m\n\u001b[0;32m     28\u001b[0m     \u001b[1;32mreturn\u001b[0m \u001b[0mcnt\u001b[0m\u001b[1;33m\u001b[0m\u001b[1;33m\u001b[0m\u001b[0m\n\u001b[1;32m---> 29\u001b[1;33m \u001b[0mcountPalindrome\u001b[0m\u001b[1;33m(\u001b[0m\u001b[1;36m1\u001b[0m\u001b[1;33m,\u001b[0m\u001b[1;36m100\u001b[0m\u001b[1;33m)\u001b[0m\u001b[1;33m\u001b[0m\u001b[1;33m\u001b[0m\u001b[0m\n\u001b[0m",
      "\u001b[1;32m<ipython-input-46-49b08a9497fd>\u001b[0m in \u001b[0;36mcountPalindrome\u001b[1;34m(lb, ub)\u001b[0m\n\u001b[0;32m     23\u001b[0m     \u001b[1;32mwhile\u001b[0m \u001b[0mlb\u001b[0m \u001b[1;33m!=\u001b[0m \u001b[0mub\u001b[0m\u001b[1;33m:\u001b[0m\u001b[1;33m\u001b[0m\u001b[1;33m\u001b[0m\u001b[0m\n\u001b[0;32m     24\u001b[0m         \u001b[1;31m#implement\u001b[0m\u001b[1;33m\u001b[0m\u001b[1;33m\u001b[0m\u001b[1;33m\u001b[0m\u001b[0m\n\u001b[1;32m---> 25\u001b[1;33m         \u001b[1;32mif\u001b[0m \u001b[0misPalindrome\u001b[0m\u001b[1;33m(\u001b[0m\u001b[0mlb\u001b[0m\u001b[1;33m)\u001b[0m \u001b[1;33m==\u001b[0m \u001b[1;32mTrue\u001b[0m\u001b[1;33m:\u001b[0m\u001b[1;33m\u001b[0m\u001b[1;33m\u001b[0m\u001b[0m\n\u001b[0m\u001b[0;32m     26\u001b[0m             \u001b[0mcnt\u001b[0m \u001b[1;33m=\u001b[0m \u001b[0mcnt\u001b[0m\u001b[1;33m+\u001b[0m\u001b[1;36m1\u001b[0m\u001b[1;33m\u001b[0m\u001b[1;33m\u001b[0m\u001b[0m\n\u001b[0;32m     27\u001b[0m         \u001b[0mlb\u001b[0m \u001b[1;33m=\u001b[0m \u001b[0mlb\u001b[0m\u001b[1;33m+\u001b[0m\u001b[1;36m1\u001b[0m\u001b[1;33m\u001b[0m\u001b[1;33m\u001b[0m\u001b[0m\n",
      "\u001b[1;31mTypeError\u001b[0m: isPalindrome() missing 1 required positional argument: 'ub'"
     ]
    }
   ],
   "source": [
    "#write a function to return the function of palindrome number two limits\n",
    "#input : 1 10\n",
    "#output: 9(1,2,3,4,5,6,7,8,9)\n",
    "#lb=lowerbound\n",
    "#ub=upperbound\n",
    "\n",
    "#input : 11 100\n",
    "#output : 9(11,22,33,44,55,.....99)\n",
    "def isPalindrome(lb,ub):\n",
    "    rev = 0\n",
    "    x=n\n",
    "    while n!=0:\n",
    "        r=n%10\n",
    "        rev = rev*10+r\n",
    "        n=n//10\n",
    "    if rev == x:\n",
    "        return True\n",
    "    else:\n",
    "        return False\n",
    "    return\n",
    "def countPalindrome(lb,ub):\n",
    "    cnt = 0\n",
    "    while lb != ub:\n",
    "        #implement \n",
    "        if isPalindrome(lb) == True:\n",
    "            cnt = cnt+1\n",
    "        lb = lb+1\n",
    "    return cnt\n",
    "countPalindrome(1,100)"
   ]
  },
  {
   "cell_type": "code",
   "execution_count": 47,
   "metadata": {},
   "outputs": [
    {
     "name": "stdout",
     "output_type": "stream",
     "text": [
      "6 \n",
      "6 28 496 \n"
     ]
    }
   ],
   "source": [
    "#function to generate the perfect numbers in a given range\n",
    "#perfect number : sum of all its fctoers is equal to the original number\n",
    "#example: 6---1,2,3\n",
    "#input:1 10\n",
    "#output:6\n",
    "def factorlist(n):\n",
    "    sum = 0\n",
    "    for i in range(1,n//2+1):\n",
    "        if n%i == 0:\n",
    "            sum = sum + i\n",
    "    return sum\n",
    "def isPerfect(n):\n",
    "    if factorlist(n) == n:\n",
    "        return True\n",
    "    else:\n",
    "        return False\n",
    "def generatePerfect(lb,ub):\n",
    "    for x in range(lb,ub+1):\n",
    "        if isPerfect(x):\n",
    "            print(x,end = \" \")\n",
    "    print()\n",
    "    return\n",
    "generatePerfect(1,10)\n",
    "generatePerfect(1,1000)"
   ]
  },
  {
   "cell_type": "code",
   "execution_count": 51,
   "metadata": {},
   "outputs": [
    {
     "name": "stdout",
     "output_type": "stream",
     "text": [
      "1 8 8 9 "
     ]
    }
   ],
   "source": [
    "def extractdigits(str):\n",
    "    for x in range(len(str)):\n",
    "        if ord(str[x]) >= 48 and ord(str[x]) <= 57:\n",
    "            print(str[x],end=\" \")\n",
    "    return\n",
    "extractdigits(\"Appli1cat8ion89\")"
   ]
  },
  {
   "cell_type": "code",
   "execution_count": 52,
   "metadata": {},
   "outputs": [
    {
     "data": {
      "text/plain": [
       "26"
      ]
     },
     "execution_count": 52,
     "metadata": {},
     "output_type": "execute_result"
    }
   ],
   "source": [
    "# function to return the sum of digits in a given string\n",
    "# example:\n",
    "# input : aplicat8ion89\n",
    "# output: 26(1+8+8+9)\n",
    "def sumofdigits(str):\n",
    "    sum = 0\n",
    "    for x in range(len(str)):\n",
    "        if ord(str[x]) >=48 and ord(str[x]) <=57:\n",
    "            sum=sum+(ord(str[x])-48)\n",
    "    return sum\n",
    "sumofdigits('appli1cat8ion89')"
   ]
  },
  {
   "cell_type": "code",
   "execution_count": 54,
   "metadata": {},
   "outputs": [
    {
     "data": {
      "text/plain": [
       "16"
      ]
     },
     "execution_count": 54,
     "metadata": {},
     "output_type": "execute_result"
    }
   ],
   "source": [
    "# function to return the sum of digits in a given string\n",
    "# example:\n",
    "# input : aplicat8ion89\n",
    "# output: 16(8+8)\n",
    "def sumofevendigits(str):\n",
    "    sum = 0\n",
    "    for x in range(len(str)):\n",
    "        if ord(str[x]) >=48 and ord(str[x]) <=57:\n",
    "            if (ord(str[x])-48) %2 ==0:   \n",
    "                sum=sum+(ord(str[x])-48)\n",
    "    return sum\n",
    "sumofevendigits('appli1cat8ion89')"
   ]
  },
  {
   "cell_type": "code",
   "execution_count": 61,
   "metadata": {},
   "outputs": [
    {
     "name": "stdout",
     "output_type": "stream",
     "text": [
      "MADE"
     ]
    }
   ],
   "source": [
    "# Function to print the specific word in upper case\n",
    "# example:\n",
    "# input : Python Made Easy\n",
    "# output: MADE\n",
    "# input : learn python programming\n",
    "# output :PYTHON\n",
    "def worduppercase(s):\n",
    "    spaceCnt=0\n",
    "    for x in range(len(s)):\n",
    "        \n",
    "        if ord(s[x]) ==32:\n",
    "            spaceCnt +=1 # spaceCnt =spaceCnt +1       \n",
    "        if spaceCnt ==1:\n",
    "            if ord(s[x]) >=65 and ord (s[x]) <=90:\n",
    "                print(s[x],end=\"\")\n",
    "            elif ord(s[x]) >=97 and ord(s[x]) <=122:\n",
    "                print(chr(ord(s[x])-32),end=\"\")\n",
    "        if spaceCnt ==2:\n",
    "            break\n",
    "    return\n",
    "worduppercase('Python Made Easy') # MADE"
   ]
  },
  {
   "cell_type": "code",
   "execution_count": null,
   "metadata": {},
   "outputs": [],
   "source": []
  },
  {
   "cell_type": "code",
   "execution_count": null,
   "metadata": {},
   "outputs": [],
   "source": []
  }
 ],
 "metadata": {
  "kernelspec": {
   "display_name": "Python 3",
   "language": "python",
   "name": "python3"
  },
  "language_info": {
   "codemirror_mode": {
    "name": "ipython",
    "version": 3
   },
   "file_extension": ".py",
   "mimetype": "text/x-python",
   "name": "python",
   "nbconvert_exporter": "python",
   "pygments_lexer": "ipython3",
   "version": "3.7.3"
  }
 },
 "nbformat": 4,
 "nbformat_minor": 2
}
