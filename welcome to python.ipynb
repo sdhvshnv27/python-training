{
 "cells": [
  {
   "cell_type": "markdown",
   "metadata": {},
   "source": [
    "# markdown\n",
    "## markdown\n",
    "### markdown\n",
    "\n",
    "* **point1** (bold)\n",
    "* *point2* (italic)\n",
    "* ***point3***\n",
    "*Normal Text\n",
    " ~ublist 1\n",
    " ~sublist \n",
    " \n",
    " >1.point1\n",
    " >2.point2\n",
    " "
   ]
  },
  {
   "cell_type": "markdown",
   "metadata": {},
   "source": [
    "***adding links to markdown***\n",
    "* Google site -- [1]:https/www.google.com/\n"
   ]
  }
 ],
 "metadata": {
  "kernelspec": {
   "display_name": "Python 3",
   "language": "python",
   "name": "python3"
  },
  "language_info": {
   "codemirror_mode": {
    "name": "ipython",
    "version": 3
   },
   "file_extension": ".py",
   "mimetype": "text/x-python",
   "name": "python",
   "nbconvert_exporter": "python",
   "pygments_lexer": "ipython3",
   "version": "3.7.3"
  }
 },
 "nbformat": 4,
 "nbformat_minor": 2
}
