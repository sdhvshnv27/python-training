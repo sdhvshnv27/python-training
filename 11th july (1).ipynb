{
 "cells": [
  {
   "cell_type": "markdown",
   "metadata": {},
   "source": [
    "###  String formatting\n",
    "  - classical version\n",
    "  - current version\n",
    "  "
   ]
  },
  {
   "cell_type": "code",
   "execution_count": 4,
   "metadata": {},
   "outputs": [
    {
     "name": "stdout",
     "output_type": "stream",
     "text": [
      "%s%s Python programming\n"
     ]
    }
   ],
   "source": [
    "#classical version\n",
    "li = [\"Python\",\"programming\"]\n",
    "print(\"%s%s\",li[0],li[1])"
   ]
  },
  {
   "cell_type": "code",
   "execution_count": null,
   "metadata": {},
   "outputs": [],
   "source": []
  },
  {
   "cell_type": "code",
   "execution_count": null,
   "metadata": {},
   "outputs": [],
   "source": []
  },
  {
   "cell_type": "markdown",
   "metadata": {},
   "source": [
    "### standard libraries\n",
    " - file i/o\n",
    " - regular expression\n",
    " - date- time\n",
    " - Math"
   ]
  },
  {
   "cell_type": "markdown",
   "metadata": {},
   "source": [
    "### file handling in python\n",
    "### modes of the file i/o\n",
    " - 'w' is the mode used to write the files\n",
    " - --if the file is not present first it creates the fileand write so we can write data or upload in it\n",
    " - -- if the file is already present then it will write the extra data\n"
   ]
  },
  {
   "cell_type": "code",
   "execution_count": 16,
   "metadata": {},
   "outputs": [
    {
     "name": "stdout",
     "output_type": "stream",
     "text": [
      "file is created and data has written \n"
     ]
    }
   ],
   "source": [
    "#function to create a file and write to the file\n",
    "def createfile(filename):\n",
    "    f=open(filename,'w')\n",
    "    for i in range(10):\n",
    "        f.write('this is %d line\\n' %i)\n",
    "    print(\"file is created and data has written \")\n",
    "    return\n",
    "createfile('file9.txt')"
   ]
  },
  {
   "cell_type": "code",
   "execution_count": 18,
   "metadata": {},
   "outputs": [
    {
     "name": "stdout",
     "output_type": "stream",
     "text": [
      " Volume in drive C has no label.\n",
      " Volume Serial Number is 064D-5751\n",
      "\n",
      " Directory of C:\\Users\\Comp1\n",
      "\n",
      "07/11/2019  09:37 AM    <DIR>          .\n",
      "07/11/2019  09:37 AM    <DIR>          ..\n",
      "07/05/2019  04:59 PM    <DIR>          .anaconda\n",
      "07/05/2019  03:43 PM             5,557 .bash_history\n",
      "07/11/2019  09:37 AM    <DIR>          .conda\n",
      "07/11/2019  09:04 AM                43 .condarc\n",
      "07/05/2019  05:40 PM             1,329 .ipynb\n",
      "07/11/2019  09:21 AM    <DIR>          .ipynb_checkpoints\n",
      "07/05/2019  05:03 PM    <DIR>          .ipython\n",
      "07/08/2019  02:50 PM    <DIR>          .jupyter\n",
      "07/09/2019  02:26 PM    <DIR>          .matplotlib\n",
      "07/10/2019  03:59 PM            15,248 10th july.ipynb\n",
      "07/11/2019  09:35 AM             4,908 11th july.ipynb\n",
      "07/09/2019  03:09 PM             9,813 8th july.ipynb\n",
      "07/09/2019  03:12 PM            13,152 9th july.ipynb\n",
      "07/05/2019  04:57 PM    <DIR>          Anaconda3\n",
      "07/10/2019  03:17 PM             4,391 Assignment!!!.ipynb\n",
      "05/08/2019  10:46 AM    <DIR>          Contacts\n",
      "07/11/2019  09:21 AM    <DIR>          Desktop\n",
      "07/05/2019  04:57 PM    <DIR>          Documents\n",
      "07/10/2019  11:30 AM    <DIR>          Downloads\n",
      "06/04/2019  11:08 PM    <DIR>          Favorites\n",
      "07/11/2019  09:36 AM               160 file1.txt\n",
      "07/11/2019  09:37 AM               160 file9.txt\n",
      "06/04/2019  11:08 PM    <DIR>          Links\n",
      "05/08/2019  10:46 AM    <DIR>          Music\n",
      "07/06/2019  02:41 PM    <DIR>          OneDrive\n",
      "05/08/2019  10:46 AM    <DIR>          Pictures\n",
      "05/08/2019  10:46 AM    <DIR>          Saved Games\n",
      "05/08/2019  10:46 AM    <DIR>          Searches\n",
      "07/09/2019  04:04 PM             2,064 Untitled.ipynb\n",
      "07/10/2019  11:06 AM    <DIR>          Videos\n",
      "07/09/2019  03:57 PM               960 welcome to python.ipynb\n",
      "              12 File(s)         57,785 bytes\n",
      "              21 Dir(s)  281,443,278,848 bytes free\n"
     ]
    }
   ],
   "source": [
    "ls\n"
   ]
  },
  {
   "cell_type": "code",
   "execution_count": 19,
   "metadata": {},
   "outputs": [
    {
     "name": "stdout",
     "output_type": "stream",
     "text": [
      "testing...\n",
      "\n",
      "file is created and data has written \n"
     ]
    }
   ],
   "source": [
    "def createfile(filename):\n",
    "    f=open(filename,'w')\n",
    "    print('testing...\\n')\n",
    "    for i in range(10):\n",
    "        f.write('this is %d line\\n' %i)\n",
    "    print(\"file is created and data has written \")\n",
    "    return\n",
    "createfile('file9.txt')"
   ]
  },
  {
   "cell_type": "code",
   "execution_count": null,
   "metadata": {},
   "outputs": [],
   "source": []
  },
  {
   "cell_type": "code",
   "execution_count": 21,
   "metadata": {},
   "outputs": [
    {
     "name": "stdout",
     "output_type": "stream",
     "text": [
      "file created and successfully data written\n"
     ]
    }
   ],
   "source": [
    "def appenddata(filename):\n",
    "    f = open(filename, 'a')\n",
    "    for i in range(10):\n",
    "        f.write(\"this is %d line\\n\" %i)\n",
    "    print(\"file created and successfully data written\")\n",
    "    return\n",
    "appenddata('file10.txt')"
   ]
  },
  {
   "cell_type": "code",
   "execution_count": 23,
   "metadata": {},
   "outputs": [
    {
     "name": "stdout",
     "output_type": "stream",
     "text": [
      "file created and data written successfully\n"
     ]
    }
   ],
   "source": [
    "def appenddata(filename):\n",
    "    f = open(filename,'a')\n",
    "    f.write(\"new line 1\\n\")\n",
    "    f.write(\"new line 2\\n\")\n",
    "    print(\"file created and data written successfully\")\n",
    "    return\n",
    "appenddata('file10.txt')"
   ]
  },
  {
   "cell_type": "code",
   "execution_count": 25,
   "metadata": {},
   "outputs": [
    {
     "name": "stdout",
     "output_type": "stream",
     "text": [
      "this is 0 line\n",
      "this is 1 line\n",
      "this is 2 line\n",
      "this is 3 line\n",
      "this is 4 line\n",
      "this is 5 line\n",
      "this is 6 line\n",
      "this is 7 line\n",
      "this is 8 line\n",
      "this is 9 line\n",
      "new line 1\n",
      "new line 2\n",
      "\n"
     ]
    }
   ],
   "source": [
    "# function to read the file \n",
    "def readfiledata(filename):\n",
    "    f= open(filename,'r')\n",
    "    if f.mode == 'r':\n",
    "        x = f.read()\n",
    "        print(x)\n",
    "    f.close()\n",
    "    return\n",
    "readfiledata('file10.txt')"
   ]
  },
  {
   "cell_type": "code",
   "execution_count": 1,
   "metadata": {},
   "outputs": [
    {
     "name": "stdout",
     "output_type": "stream",
     "text": [
      "enter the file namefile.txt\n",
      "enter the mode of the file:a\n",
      "the data successfully written\n"
     ]
    }
   ],
   "source": [
    "def fileoperations(filename,mode):\n",
    "    with open(filename,mode) as f:\n",
    "        if f.mode == 'r':\n",
    "            data = f.read()\n",
    "            print(data)\n",
    "        elif f.mode == 'a':\n",
    "            f.write('data to the file\\n')\n",
    "            print('the data successfully written')\n",
    "            \n",
    "    f.close()\n",
    "    return\n",
    "filename = input('enter the file name')\n",
    "mode = input('enter the mode of the file:')\n",
    "fileoperations(filename,mode)"
   ]
  },
  {
   "cell_type": "code",
   "execution_count": 2,
   "metadata": {},
   "outputs": [
    {
     "name": "stdout",
     "output_type": "stream",
     "text": [
      "enter the file name : file9.txt\n",
      "Enter the word : this\n"
     ]
    },
    {
     "data": {
      "text/plain": [
       "10"
      ]
     },
     "execution_count": 2,
     "metadata": {},
     "output_type": "execute_result"
    }
   ],
   "source": [
    "# Data analysis\n",
    "#word count\n",
    "def wordcount(filename,word):\n",
    "    with open(filename,'r') as f:\n",
    "        if f.mode == 'r':\n",
    "            x = f.read()\n",
    "            li= x.split() #it splits the stringwith white space\n",
    "    cnt =  li.count(word)\n",
    "        \n",
    "    return cnt\n",
    "filename = input('enter the file name : ')\n",
    "word = input('Enter the word : ') #which word count\n",
    "wordcount(filename,word)\n"
   ]
  },
  {
   "cell_type": "code",
   "execution_count": 4,
   "metadata": {},
   "outputs": [
    {
     "name": "stdout",
     "output_type": "stream",
     "text": [
      "enter the filename : file10.txt\n"
     ]
    },
    {
     "data": {
      "text/plain": [
       "16"
      ]
     },
     "execution_count": 4,
     "metadata": {},
     "output_type": "execute_result"
    }
   ],
   "source": [
    "# character count from the given file\n",
    "def charcount(filename):\n",
    "    with open(filename,'r') as f:\n",
    "        if f.mode == 'r':\n",
    "            x = f.read()\n",
    "            li = list(x) #converts the string - char\n",
    "        \n",
    "    return len(li)\n",
    "filename = input('enter the filename : ')\n",
    "charcount(filename)"
   ]
  },
  {
   "cell_type": "code",
   "execution_count": 7,
   "metadata": {},
   "outputs": [
    {
     "name": "stdout",
     "output_type": "stream",
     "text": [
      "Enter the filename : file9.txt\n"
     ]
    },
    {
     "data": {
      "text/plain": [
       "11"
      ]
     },
     "execution_count": 7,
     "metadata": {},
     "output_type": "execute_result"
    }
   ],
   "source": [
    "# find the no of lines\n",
    "# input file \n",
    "# output-- no. of lines\n",
    "# Data analysis\n",
    "#word count\n",
    "def countoflines(filename):\n",
    "    with open (filename,'r') as f:\n",
    "        if f.mode == 'r':\n",
    "            x=f.read()\n",
    "            li = x.split(\"\\n\")\n",
    "    return len(li)\n",
    "filename = input('Enter the filename : ')\n",
    "countoflines(filename)"
   ]
  },
  {
   "cell_type": "code",
   "execution_count": 12,
   "metadata": {},
   "outputs": [
    {
     "name": "stdout",
     "output_type": "stream",
     "text": [
      "enter the filename : file9.txt\n"
     ]
    },
    {
     "data": {
      "text/plain": [
       "'upper case = 0 , Lower Case = 100'"
      ]
     },
     "execution_count": 12,
     "metadata": {},
     "output_type": "execute_result"
    }
   ],
   "source": [
    "# function to print the upper and lower characters\n",
    "def casecount(filename):\n",
    "    cntupper = 0\n",
    "    cntlower = 0\n",
    "    with open(filename,'r') as f:\n",
    "        if f.mode == 'r':\n",
    "            x = f.read()\n",
    "            li = list(x)\n",
    "        for i in li:\n",
    "            if i.isupper():\n",
    "                cntupper += 1\n",
    "            elif i.islower():\n",
    "                cntlower += 1\n",
    "        output = 'upper case = {0} , Lower Case = {1}'.format(cntupper,cntlower)\n",
    "    return output\n",
    "filename = input('enter the filename : ')\n",
    "casecount(filename)"
   ]
  },
  {
   "cell_type": "code",
   "execution_count": null,
   "metadata": {},
   "outputs": [],
   "source": []
  },
  {
   "cell_type": "code",
   "execution_count": null,
   "metadata": {},
   "outputs": [],
   "source": []
  },
  {
   "cell_type": "code",
   "execution_count": null,
   "metadata": {},
   "outputs": [],
   "source": []
  },
  {
   "cell_type": "code",
   "execution_count": null,
   "metadata": {},
   "outputs": [],
   "source": []
  }
 ],
 "metadata": {
  "kernelspec": {
   "display_name": "Python 3",
   "language": "python",
   "name": "python3"
  },
  "language_info": {
   "codemirror_mode": {
    "name": "ipython",
    "version": 3
   },
   "file_extension": ".py",
   "mimetype": "text/x-python",
   "name": "python",
   "nbconvert_exporter": "python",
   "pygments_lexer": "ipython3",
   "version": "3.7.3"
  }
 },
 "nbformat": 4,
 "nbformat_minor": 2
}
