{
 "cells": [
  {
   "cell_type": "markdown",
   "metadata": {},
   "source": [
    "### python data structures \n",
    "#### lists\n"
   ]
  },
  {
   "cell_type": "code",
   "execution_count": 53,
   "metadata": {},
   "outputs": [
    {
     "name": "stdout",
     "output_type": "stream",
     "text": [
      "[1, 8, 16, 9, 2]\n",
      "1\n",
      "8\n",
      "2\n",
      "[8, 16, 9, 2]\n",
      "[8, 16, 9]\n"
     ]
    }
   ],
   "source": [
    "lst = [1,8,16,9,2]\n",
    "print(lst)#to access the entire list\n",
    "print(lst[0])#to access the first item of the list\n",
    "print(lst[1])#to access the 2nd item of the list\n",
    "print(lst[-1])# to access the last item of the list\n",
    "print(lst[1:])\n",
    "print(lst[1:4])"
   ]
  },
  {
   "cell_type": "code",
   "execution_count": 7,
   "metadata": {},
   "outputs": [
    {
     "name": "stdout",
     "output_type": "stream",
     "text": [
      "['gitam', 'python', 1989, 2002]\n",
      "['gitam', 'python', 2019, 2002]\n"
     ]
    }
   ],
   "source": [
    "#updating the list using the index\n",
    "li = [\"gitam\",\"python\",1989,2002]\n",
    "print(li)\n",
    "li[2] = 2019\n",
    "print(li)"
   ]
  },
  {
   "cell_type": "code",
   "execution_count": 9,
   "metadata": {},
   "outputs": [
    {
     "name": "stdout",
     "output_type": "stream",
     "text": [
      "['gitam', 'python', 2019, 2002]\n",
      "['gitam', 'python', 2002]\n"
     ]
    }
   ],
   "source": [
    "#delete a specific item in the list \n",
    "print(li)\n",
    "del li[2]\n",
    "print(li)"
   ]
  },
  {
   "cell_type": "code",
   "execution_count": 10,
   "metadata": {},
   "outputs": [
    {
     "name": "stdout",
     "output_type": "stream",
     "text": [
      "5\n",
      "[1, 9, 6, 18, 12, 1, 9, 6, 18, 12]\n",
      "5\n",
      "True\n",
      "False\n",
      "1 9 6 18 12 "
     ]
    }
   ],
   "source": [
    "#basic list operations\n",
    "lst1 = [1,9,6,18,12]\n",
    "print(len(lst1)) #len of the list\n",
    "print(lst1*2) #repetition\n",
    "print(len(lst1))\n",
    "print(9 in lst1)#list item is presnt or  not\n",
    "print(15 in lst1)\n",
    "#access the list items using iteration\n",
    "for x in range(len(lst1)):\n",
    "    print(lst1[x],end=' ')"
   ]
  },
  {
   "cell_type": "code",
   "execution_count": 14,
   "metadata": {},
   "outputs": [
    {
     "name": "stdout",
     "output_type": "stream",
     "text": [
      "1\n",
      "18\n",
      "46\n",
      "9\n",
      "13\n"
     ]
    }
   ],
   "source": [
    "#function of the list\n",
    "lst1\n",
    "print(min(lst1))\n",
    "print(max(lst1))\n",
    "print(sum(lst1)) #sum of all the elements in a list\n",
    "print(sum(lst1)//len(lst1)) #average of alll the elements\n",
    "print(sum(lst1[1::2])//len(lst1[1::2])) #average of all alternate elements"
   ]
  },
  {
   "cell_type": "code",
   "execution_count": 30,
   "metadata": {},
   "outputs": [
    {
     "data": {
      "text/plain": [
       "[1,\n",
       " 24,\n",
       " 24,\n",
       " 24,\n",
       " 24,\n",
       " 24,\n",
       " 24,\n",
       " 24,\n",
       " 24,\n",
       " 24,\n",
       " 24,\n",
       " 45,\n",
       " 56,\n",
       " 56,\n",
       " 56,\n",
       " 56,\n",
       " 56,\n",
       " 123,\n",
       " 45,\n",
       " 56]"
      ]
     },
     "execution_count": 30,
     "metadata": {},
     "output_type": "execute_result"
    }
   ],
   "source": [
    "lst1\n",
    "lst1.append(24) #adding ht element at the end of the list\n",
    "lst1\n",
    "lst1.insert(2,56) #addding an element at particular index\n",
    "lst1\n",
    "lst1.count(18) #return the value how many times the object repeated\n",
    "lst1.index(56)\n",
    "lst1.sort()\n",
    "lst1\n",
    "lst1.pop() #deleting the last element\n",
    "lst1\n",
    "lst1.pop(1)  #deleting an element of a certain index\n",
    "lst1\n",
    "lst2=[123,45,56]\n",
    "lst1.extend(lst2) #merge list 1 and 2\n",
    "lst1"
   ]
  },
  {
   "cell_type": "code",
   "execution_count": 36,
   "metadata": {},
   "outputs": [
    {
     "name": "stdout",
     "output_type": "stream",
     "text": [
      "[6, 5]\n"
     ]
    }
   ],
   "source": [
    "lis = [1,8,9,3,5,4,6]\n",
    "print(lis[-1:2:-2])"
   ]
  },
  {
   "cell_type": "code",
   "execution_count": 40,
   "metadata": {},
   "outputs": [
    {
     "data": {
      "text/plain": [
       "6"
      ]
     },
     "execution_count": 40,
     "metadata": {},
     "output_type": "execute_result"
    }
   ],
   "source": [
    "#function to find the second large number from the list\n",
    "#Input   :  [1,19,6,2,8,18,3]\n",
    "#Output  :  18\n",
    "def secondlarge(li):\n",
    "    li.sort()\n",
    "    return li[-2]\n",
    "def genericlarge(li,n):\n",
    "    li.sort()\n",
    "    return li[-n]\n",
    "li= [1,19,6,2,8,18,3]\n",
    "genericlarge(li,4)"
   ]
  },
  {
   "cell_type": "markdown",
   "metadata": {},
   "source": [
    "## linear search"
   ]
  },
  {
   "cell_type": "code",
   "execution_count": 42,
   "metadata": {},
   "outputs": [
    {
     "data": {
      "text/plain": [
       "-1"
      ]
     },
     "execution_count": 42,
     "metadata": {},
     "output_type": "execute_result"
    }
   ],
   "source": [
    "def linearsearch1(li,taritem):\n",
    "    for x in range(len(li)):\n",
    "        if li[x] == taritem:\n",
    "            return x\n",
    "    return -1\n",
    "li = [1,19,6,2,8,18,3]\n",
    "linearsearch1(li,225)"
   ]
  },
  {
   "cell_type": "markdown",
   "metadata": {},
   "source": [
    "##### duplicate search"
   ]
  },
  {
   "cell_type": "code",
   "execution_count": 46,
   "metadata": {},
   "outputs": [
    {
     "name": "stdout",
     "output_type": "stream",
     "text": [
      "1 4 8 "
     ]
    }
   ],
   "source": [
    "def linearsearch2(li,taritem):\n",
    "    for x in range(len(li)):\n",
    "        if li[x] == taritem:\n",
    "            print(x,end=\" \")\n",
    "    return\n",
    "li =[1,5,9,6,5,15,1,2,5]\n",
    "linearsearch2(li,5) "
   ]
  },
  {
   "cell_type": "code",
   "execution_count": 50,
   "metadata": {},
   "outputs": [
    {
     "name": "stdout",
     "output_type": "stream",
     "text": [
      "!! !!!!! !!!!!!!!! "
     ]
    }
   ],
   "source": [
    "def linearsearch3(li,taritem):\n",
    "     for x in range(len(li)):\n",
    "        if li[x] == taritem:\n",
    "            j=0\n",
    "            while j != x+1:\n",
    "                print(\"!\",end=\"\")\n",
    "                j=j+1\n",
    "            print(end=\" \")\n",
    "     return\n",
    "li = li =[1,5,9,6,5,15,1,2,5]\n",
    "linearsearch3(li,5)"
   ]
  },
  {
   "cell_type": "code",
   "execution_count": 52,
   "metadata": {},
   "outputs": [
    {
     "data": {
      "text/plain": [
       "60"
      ]
     },
     "execution_count": 52,
     "metadata": {},
     "output_type": "execute_result"
    }
   ],
   "source": [
    "def linearsearch4(li):\n",
    "    sum=0\n",
    "    for x in range (len(li)):\n",
    "        if li[x] % 3 == 0 and li[x] % 5 == 0:\n",
    "           sum += li[x]\n",
    "    return sum\n",
    "li = [12,2,45,9,18,15,36]\n",
    "linearsearch4(li)"
   ]
  },
  {
   "cell_type": "code",
   "execution_count": 5,
   "metadata": {},
   "outputs": [
    {
     "name": "stdout",
     "output_type": "stream",
     "text": [
      "1 9 19 22 "
     ]
    }
   ],
   "source": [
    "# Function \n",
    "# Input : List\n",
    "# Output : Formatted\n",
    "# Test case :\n",
    "# [1,6,9,4,16,22] -- 1 9 19 22\n",
    "def linearSearch6(li):\n",
    "    for x in range (len(li)):\n",
    "        if x == 0 or x==len(li)-1:\n",
    "            print(li[x],end=\" \")\n",
    "        elif li[x-1] %2 ==0 and li [x+1] %2 ==0:\n",
    "            print(li [x],end=\" \")\n",
    "    return\n",
    "li = [1,6,9,16,19,22]\n",
    "linearSearch6(li)\n"
   ]
  },
  {
   "cell_type": "markdown",
   "metadata": {},
   "source": [
    "## number to list\n",
    "##### input as number\n",
    "##### expected output will be list \n"
   ]
  },
  {
   "cell_type": "code",
   "execution_count": 6,
   "metadata": {},
   "outputs": [
    {
     "data": {
      "text/plain": [
       "[1, 4, 5, 6, 9]"
      ]
     },
     "execution_count": 6,
     "metadata": {},
     "output_type": "execute_result"
    }
   ],
   "source": [
    "#example--- i/p:1234----o/p:[1,2,3,4]\n",
    "def numlistconversion(n):\n",
    "    li = []\n",
    "    while n !=0:\n",
    "        r=n%10\n",
    "        li.append(r)\n",
    "        n=n//10\n",
    "    li.reverse()\n",
    "    return li\n",
    "numlistconversion(14569)"
   ]
  },
  {
   "cell_type": "code",
   "execution_count": 9,
   "metadata": {},
   "outputs": [
    {
     "data": {
      "text/plain": [
       "2"
      ]
     },
     "execution_count": 9,
     "metadata": {},
     "output_type": "execute_result"
    }
   ],
   "source": [
    "def countcharoccurences(s,c):\n",
    "    cnt=0\n",
    "    for ch in s:\n",
    "        if ch==c:\n",
    "            cnt += 1\n",
    "    return cnt\n",
    "countcharoccurences(\"Python Programming\",'P')"
   ]
  },
  {
   "cell_type": "code",
   "execution_count": 11,
   "metadata": {},
   "outputs": [
    {
     "data": {
      "text/plain": [
       "2"
      ]
     },
     "execution_count": 11,
     "metadata": {},
     "output_type": "execute_result"
    }
   ],
   "source": [
    "def countcharoccurences(s,c):\n",
    "    cnt=0\n",
    "    for ch in s:\n",
    "        if ch==c:\n",
    "            cnt += 1\n",
    "    return cnt\n",
    "def countcharoccurences1(s,c):\n",
    "    return s.count(c)\n",
    "countcharoccurences1(\"Python Programming\",'P')\n",
    "# both f  unctions give t=he same output"
   ]
  },
  {
   "cell_type": "markdown",
   "metadata": {},
   "source": [
    "### string to list conversion\n",
    "##### ~input will be string\n",
    "##### ~expected output will be list\n"
   ]
  },
  {
   "cell_type": "code",
   "execution_count": 12,
   "metadata": {},
   "outputs": [
    {
     "ename": "ValueError",
     "evalue": "invalid literal for int() with base 10: '1,2,3,4,5,6'",
     "output_type": "error",
     "traceback": [
      "\u001b[1;31m---------------------------------------------------------------------------\u001b[0m",
      "\u001b[1;31mValueError\u001b[0m                                Traceback (most recent call last)",
      "\u001b[1;32m<ipython-input-12-e358b700d8f2>\u001b[0m in \u001b[0;36m<module>\u001b[1;34m\u001b[0m\n\u001b[0;32m      6\u001b[0m     \u001b[1;32mreturn\u001b[0m \u001b[0mnumberslist\u001b[0m\u001b[1;33m\u001b[0m\u001b[1;33m\u001b[0m\u001b[0m\n\u001b[0;32m      7\u001b[0m \u001b[0ms\u001b[0m\u001b[1;33m=\u001b[0m \u001b[1;34m\"1,2,3,4,5,6\"\u001b[0m\u001b[1;33m\u001b[0m\u001b[1;33m\u001b[0m\u001b[0m\n\u001b[1;32m----> 8\u001b[1;33m \u001b[0mstringtolistconversion\u001b[0m\u001b[1;33m(\u001b[0m\u001b[0ms\u001b[0m\u001b[1;33m)\u001b[0m\u001b[1;33m\u001b[0m\u001b[1;33m\u001b[0m\u001b[0m\n\u001b[0m",
      "\u001b[1;32m<ipython-input-12-e358b700d8f2>\u001b[0m in \u001b[0;36mstringtolistconversion\u001b[1;34m(s)\u001b[0m\n\u001b[0;32m      3\u001b[0m     \u001b[0mnumberslist\u001b[0m \u001b[1;33m=\u001b[0m \u001b[1;33m[\u001b[0m\u001b[1;33m]\u001b[0m\u001b[1;33m\u001b[0m\u001b[1;33m\u001b[0m\u001b[0m\n\u001b[0;32m      4\u001b[0m     \u001b[1;32mfor\u001b[0m \u001b[0mi\u001b[0m \u001b[1;32min\u001b[0m \u001b[0mli\u001b[0m\u001b[1;33m:\u001b[0m\u001b[1;33m\u001b[0m\u001b[1;33m\u001b[0m\u001b[0m\n\u001b[1;32m----> 5\u001b[1;33m         \u001b[0mnumberslist\u001b[0m\u001b[1;33m.\u001b[0m\u001b[0mappend\u001b[0m\u001b[1;33m(\u001b[0m\u001b[0mint\u001b[0m\u001b[1;33m(\u001b[0m\u001b[0mi\u001b[0m\u001b[1;33m)\u001b[0m\u001b[1;33m)\u001b[0m\u001b[1;33m\u001b[0m\u001b[1;33m\u001b[0m\u001b[0m\n\u001b[0m\u001b[0;32m      6\u001b[0m     \u001b[1;32mreturn\u001b[0m \u001b[0mnumberslist\u001b[0m\u001b[1;33m\u001b[0m\u001b[1;33m\u001b[0m\u001b[0m\n\u001b[0;32m      7\u001b[0m \u001b[0ms\u001b[0m\u001b[1;33m=\u001b[0m \u001b[1;34m\"1,2,3,4,5,6\"\u001b[0m\u001b[1;33m\u001b[0m\u001b[1;33m\u001b[0m\u001b[0m\n",
      "\u001b[1;31mValueError\u001b[0m: invalid literal for int() with base 10: '1,2,3,4,5,6'"
     ]
    }
   ],
   "source": [
    "def stringtolistconversion(s):\n",
    "    li = s.split()\n",
    "    numberslist = []\n",
    "    for i in li:\n",
    "        numberslist.append(int(i))\n",
    "    return numberslist\n",
    "s= \"1,2,3,4,5,6\"\n",
    "stringtolistconversion(s) "
   ]
  },
  {
   "cell_type": "code",
   "execution_count": null,
   "metadata": {},
   "outputs": [],
   "source": []
  }
 ],
 "metadata": {
  "kernelspec": {
   "display_name": "Python 3",
   "language": "python",
   "name": "python3"
  },
  "language_info": {
   "codemirror_mode": {
    "name": "ipython",
    "version": 3
   },
   "file_extension": ".py",
   "mimetype": "text/x-python",
   "name": "python",
   "nbconvert_exporter": "python",
   "pygments_lexer": "ipython3",
   "version": "3.7.3"
  }
 },
 "nbformat": 4,
 "nbformat_minor": 2
}
