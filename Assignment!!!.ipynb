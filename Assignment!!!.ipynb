{
 "cells": [
  {
   "cell_type": "code",
   "execution_count": 1,
   "metadata": {},
   "outputs": [
    {
     "name": "stdout",
     "output_type": "stream",
     "text": [
      "3 2 1 1 0 "
     ]
    }
   ],
   "source": [
    "def reverseFibonacci(n):\n",
    "   \n",
    "    a = [0] * n  \n",
    " \n",
    "    # assigning first and second elements\n",
    "    a[0] = 0\n",
    "    a[1] = 1\n",
    " \n",
    "    for i in range(2, n):   \n",
    " \n",
    "        # storing sum in the\n",
    "        # preceding location\n",
    "        a[i] = a[i - 2] + a[i - 1]  \n",
    "   \n",
    " \n",
    "    for i in range(n - 1, -1 , -1):   \n",
    " \n",
    "        # printing array in\n",
    "        # reverse order\n",
    "        print(a[i],end=\" \")  \n",
    "     \n",
    "   \n",
    " \n",
    "# Driver function\n",
    "n = 5\n",
    "reverseFibonacci(n) "
   ]
  },
  {
   "cell_type": "code",
   "execution_count": 1,
   "metadata": {},
   "outputs": [
    {
     "name": "stdout",
     "output_type": "stream",
     "text": [
      "Gitam niversity\n"
     ]
    }
   ],
   "source": [
    "# function for removing the  \n",
    "# occurence of character\n",
    "def removeChar(s, c) :\n",
    "  \n",
    "    # find total no. of  \n",
    "    # occurence of charcter\n",
    "    counts = s.count(c)\n",
    " \n",
    "    # convert into list  \n",
    "    # of characters\n",
    "    s = list(s)\n",
    " \n",
    "    # keeep looping untill  \n",
    "    # counts become 0\n",
    "    while counts :\n",
    "      \n",
    "        # remove character\n",
    "        # from the list\n",
    "        s.remove(c)\n",
    " \n",
    "        # decremented by one\n",
    "        counts -= 1\n",
    " \n",
    "    # join all remaining characters\n",
    "    # of the list with empty string  \n",
    "    s = '' . join(s)\n",
    "  \n",
    "    print(s)\n",
    " \n",
    "# Driver code\n",
    "if __name__ == '__main__' :\n",
    "  \n",
    "    s = \"Gitam University\"\n",
    "    removeChar(s,'U')"
   ]
  },
  {
   "cell_type": "code",
   "execution_count": null,
   "metadata": {},
   "outputs": [],
   "source": []
  },
  {
   "cell_type": "code",
   "execution_count": 2,
   "metadata": {},
   "outputs": [
    {
     "name": "stdout",
     "output_type": "stream",
     "text": [
      "|*********\n",
      "|********\n",
      "|*****\n",
      "|******\n",
      "|*****\n"
     ]
    }
   ],
   "source": [
    "def pattern(n):\n",
    " \n",
    "    # traverse through the elements\n",
    "    # in n assuming it as a string\n",
    "    for i in n:\n",
    " \n",
    "        # print | for every line\n",
    "        print(\"|\", end = \"\")\n",
    " \n",
    "        # print i number of * s in  \n",
    "        # each line\n",
    "        print(\"*\" * int(i))\n",
    " \n",
    "# get the input as string    \n",
    "n = \"98565\"\n",
    "pattern(n)"
   ]
  },
  {
   "cell_type": "code",
   "execution_count": null,
   "metadata": {},
   "outputs": [],
   "source": []
  },
  {
   "cell_type": "code",
   "execution_count": 5,
   "metadata": {},
   "outputs": [
    {
     "name": "stdout",
     "output_type": "stream",
     "text": [
      "Please Enter the First  String : adfy\n",
      "Please Enter the Second String : bufdk\n",
      "The final string after merging =  adfybufdk\n",
      "The final sting after merging with space =  adfy bufdk\n"
     ]
    }
   ],
   "source": [
    "string1 = input(\"Please Enter the First  String : \")\n",
    "string2 = input(\"Please Enter the Second String : \")\n",
    "\n",
    "string3 = string1 + string2\n",
    "print(\"The final string after merging = \", string3)\n",
    "\n",
    "string3 = string1 + ' ' + string2\n",
    "print(\"The final sting after merging with space = \", string3)"
   ]
  },
  {
   "cell_type": "code",
   "execution_count": null,
   "metadata": {},
   "outputs": [],
   "source": []
  }
 ],
 "metadata": {
  "kernelspec": {
   "display_name": "Python 3",
   "language": "python",
   "name": "python3"
  },
  "language_info": {
   "codemirror_mode": {
    "name": "ipython",
    "version": 3
   },
   "file_extension": ".py",
   "mimetype": "text/x-python",
   "name": "python",
   "nbconvert_exporter": "python",
   "pygments_lexer": "ipython3",
   "version": "3.7.3"
  }
 },
 "nbformat": 4,
 "nbformat_minor": 2
}
