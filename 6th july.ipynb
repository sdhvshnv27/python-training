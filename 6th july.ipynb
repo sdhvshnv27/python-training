{
 "cells": [
  {
   "cell_type": "code",
   "execution_count": 1,
   "metadata": {},
   "outputs": [
    {
     "name": "stdout",
     "output_type": "stream",
     "text": [
      "Enter number 1 33\n",
      "Enter number 2 45\n",
      "Enter number 3 90\n",
      "90  is the large number \n"
     ]
    }
   ],
   "source": [
    "# Find the large number from the given 3 numbers\n",
    "a1 = int(input(\"Enter number 1 \"))\n",
    "a2 = int(input(\"Enter number 2 \"))\n",
    "a3 = int(input(\"Enter number 3 \"))\n",
    "\n",
    "if a1>a2 and a1>a3:\n",
    "    print(a1, \" is the large number \")\n",
    "elif a2>a1 and a2>a3:\n",
    "    print(a2, \" is the large number \")\n",
    "else:\n",
    "    print(a3, \" is the large number \")"
   ]
  },
  {
   "cell_type": "code",
   "execution_count": 2,
   "metadata": {},
   "outputs": [
    {
     "name": "stdout",
     "output_type": "stream",
     "text": [
      "Enter year2002\n",
      "Not a leap year\n"
     ]
    }
   ],
   "source": [
    "# Check if a year is leap year or not\n",
    "year = int(input(\"Enter year\"))\n",
    "if year%400 == 0 or (year % 100 != 0  and year % 4 == 0):\n",
    "    print(\"Leap year\")\n",
    "else:\n",
    "    print(\"Not a leap year\")"
   ]
  },
  {
   "cell_type": "markdown",
   "metadata": {},
   "source": [
    "### Iteration\n"
   ]
  },
  {
   "cell_type": "code",
   "execution_count": 3,
   "metadata": {},
   "outputs": [
    {
     "name": "stdout",
     "output_type": "stream",
     "text": [
      "Gitam\n",
      "Gitam\n",
      "Gitam\n",
      "Gitam\n",
      "Gitam\n"
     ]
    }
   ],
   "source": [
    "# Need print \"Gitam\" for 5 times\n",
    "print(\"Gitam\")\n",
    "print(\"Gitam\")\n",
    "print(\"Gitam\")\n",
    "print(\"Gitam\")\n",
    "print(\"Gitam\")"
   ]
  },
  {
   "cell_type": "code",
   "execution_count": 4,
   "metadata": {},
   "outputs": [
    {
     "name": "stdout",
     "output_type": "stream",
     "text": [
      "Enter a Number66\n",
      "1 2 3 4 5 6 7 8 9 10 11 12 13 14 15 16 17 18 19 20 21 22 23 24 25 26 27 28 29 30 31 32 33 34 35 36 37 38 39 40 41 42 43 44 45 46 47 48 49 50 51 52 53 54 55 56 57 58 59 60 61 62 63 64 65 66 "
     ]
    }
   ],
   "source": [
    "# Print N Natural numbers using while loop\n",
    "# Input - 10\n",
    "# Output - 1 2 3 ..... 10\n",
    "n = int(input(\"Enter a Number\"))\n",
    "i = 1\n",
    "while i <= n :\n",
    "    print(i,end = \" \")\n",
    "    i = i + 1"
   ]
  },
  {
   "cell_type": "code",
   "execution_count": 5,
   "metadata": {},
   "outputs": [
    {
     "name": "stdout",
     "output_type": "stream",
     "text": [
      "Enter a number 10\n",
      "30\n"
     ]
    }
   ],
   "source": [
    "# Read a Number -- n\n",
    "# Add only even numbers between 1 to n\n",
    "# Input -- 10\n",
    "# Output -- 30(2 + 4 + 6 + 8 + 10)\n",
    "n = int(input('Enter a number '))\n",
    "i = 1\n",
    "sum = 0\n",
    "while i <= n:\n",
    "    if i % 2 == 0:\n",
    "        sum =  sum + i\n",
    "    i = i + 1\n",
    "\n",
    "print(sum)\n"
   ]
  },
  {
   "cell_type": "code",
   "execution_count": 6,
   "metadata": {},
   "outputs": [
    {
     "name": "stdout",
     "output_type": "stream",
     "text": [
      "Enter a number 25\n",
      "5  2  "
     ]
    }
   ],
   "source": [
    "# Number as a Number -- 123\n",
    "# Print the digits of given number : 3 2 1\n",
    "n = int(input('Enter a number '))\n",
    "while n != 0:\n",
    "    r = n % 10\n",
    "    print(r,end = \"  \")\n",
    "    n = n // 10"
   ]
  },
  {
   "cell_type": "code",
   "execution_count": 8,
   "metadata": {},
   "outputs": [],
   "source": [
    "def nameoftheFunction(Parameters):\n",
    "    Statement\n",
    "    return"
   ]
  },
  {
   "cell_type": "code",
   "execution_count": 9,
   "metadata": {},
   "outputs": [
    {
     "data": {
      "text/plain": [
       "6"
      ]
     },
     "execution_count": 9,
     "metadata": {},
     "output_type": "execute_result"
    }
   ],
   "source": [
    "# Read a number -- 1234\n",
    "# Output -- 6(2+4)\n",
    "def addEvenDigits(n):\n",
    "    sum = 0\n",
    "    while n!= 0:\n",
    "        r = n % 10\n",
    "        if r % 2 == 0:\n",
    "            sum = sum + r\n",
    "        n = n // 10    \n",
    "    return sum\n",
    "addEvenDigits(1234)"
   ]
  },
  {
   "cell_type": "code",
   "execution_count": 10,
   "metadata": {},
   "outputs": [
    {
     "data": {
      "text/plain": [
       "9"
      ]
     },
     "execution_count": 10,
     "metadata": {},
     "output_type": "execute_result"
    }
   ],
   "source": [
    "# Read a number -- 19528\n",
    "# Print the large digit print the number\n",
    "def printLarge(n):\n",
    "    large = 0\n",
    "    while n != 0:\n",
    "        r = n % 10\n",
    "        if large < r:\n",
    "            large = r\n",
    "        n = n // 10\n",
    "    return large\n",
    "printLarge(19528)"
   ]
  },
  {
   "cell_type": "code",
   "execution_count": 12,
   "metadata": {},
   "outputs": [
    {
     "data": {
      "text/plain": [
       "321"
      ]
     },
     "execution_count": 12,
     "metadata": {},
     "output_type": "execute_result"
    }
   ],
   "source": [
    "# Read a number Input\n",
    "# Output reverse of the given number\n",
    "# 123 -- 321\n",
    "def reverseNumber(n):\n",
    "    rev = 0\n",
    "    while n != 0:\n",
    "        r = n % 10\n",
    "        rev = rev * 10 + r\n",
    "        n = n // 10\n",
    "    return rev\n",
    "reverseNumber(123)"
   ]
  },
  {
   "cell_type": "code",
   "execution_count": 13,
   "metadata": {},
   "outputs": [
    {
     "name": "stdout",
     "output_type": "stream",
     "text": [
      "No\n",
      "Yes\n"
     ]
    }
   ],
   "source": [
    "# Given number is palidrome or not\n",
    "# input\n",
    "# 123 -- 321  -- No\n",
    "# 121 -- 121  -- Yes\n",
    "def isPalindrome(n):\n",
    "    rev = 0\n",
    "    buffer = n\n",
    "    while n != 0:\n",
    "        r = n % 10\n",
    "        rev = rev * 10 + r\n",
    "        n = n // 10\n",
    "    if buffer == rev:\n",
    "        return \"Yes\"\n",
    "    else:\n",
    "        return \"No\"\n",
    "\n",
    "print(isPalindrome(123))\n",
    "print(isPalindrome(121))"
   ]
  },
  {
   "cell_type": "code",
   "execution_count": 14,
   "metadata": {},
   "outputs": [
    {
     "name": "stdout",
     "output_type": "stream",
     "text": [
      "1 2 3 4 5 6 7 8 9 10 "
     ]
    }
   ],
   "source": [
    "#Function to print N Natural numbers with for loop\n",
    "def printNNaturalNumbers(n):\n",
    "    for x in range(1,n+1):\n",
    "        print(x,end=\" \")\n",
    "    return\n",
    "printNNaturalNumbers(10)"
   ]
  },
  {
   "cell_type": "code",
   "execution_count": 15,
   "metadata": {},
   "outputs": [
    {
     "name": "stdout",
     "output_type": "stream",
     "text": [
      "10 9 8 7 6 5 4 3 2 1 "
     ]
    }
   ],
   "source": [
    "# Function to print the series in reverse\n",
    "# Input -- 1,10 \n",
    "# Output : 10 9 8 7 6 .... 1\n",
    "def reverseRange(start,end):\n",
    "    for x in range(end,start-1,-1):\n",
    "        print(x,end =\" \")\n",
    "    return\n",
    "reverseRange(1,10)"
   ]
  },
  {
   "cell_type": "code",
   "execution_count": null,
   "metadata": {},
   "outputs": [],
   "source": []
  }
 ],
 "metadata": {
  "kernelspec": {
   "display_name": "Python 3",
   "language": "python",
   "name": "python3"
  },
  "language_info": {
   "codemirror_mode": {
    "name": "ipython",
    "version": 3
   },
   "file_extension": ".py",
   "mimetype": "text/x-python",
   "name": "python",
   "nbconvert_exporter": "python",
   "pygments_lexer": "ipython3",
   "version": "3.7.3"
  }
 },
 "nbformat": 4,
 "nbformat_minor": 2
}
